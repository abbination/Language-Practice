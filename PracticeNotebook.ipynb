{
 "cells": [
  {
   "cell_type": "code",
   "execution_count": null,
   "id": "65c161f2-e6b8-4608-8f21-3f4524d896d3",
   "metadata": {},
   "outputs": [],
   "source": [
    "#TO DO: turn this into a program that will take in and save new vocab and keep track of practice\n",
    "#For now this is a place to play with and test code. The py scripts will be used for the actual program\n",
    "#set up database and an etl pipeline\n",
    "import pandas as pd\n",
    "from pathlib import Path\n",
    "import os\n",
    "import openpyxl"
   ]
  },
  {
   "cell_type": "code",
   "execution_count": 4,
   "id": "2d3e268f-cf22-4c35-8f9f-7ebf8d140153",
   "metadata": {},
   "outputs": [
    {
     "name": "stdout",
     "output_type": "stream",
     "text": [
      "          Vocab  IsIrregular                  Meaning\n",
      "0        devoir            1         must, to have to\n",
      "1       espérer            0               to hope to\n",
      "2    essayer de            0                to try to\n",
      "3       pouvoir            1            to be able to\n",
      "4       vouloir            1               to want to\n",
      "..          ...          ...                      ...\n",
      "143     niveler            0                 to level\n",
      "144    rappeler            0  to remind, to call back\n",
      "145  renouveler            0                 to renew\n",
      "146     répéter            0                to repeat\n",
      "147      épeler            0                 to spell\n",
      "\n",
      "[148 rows x 3 columns]\n"
     ]
    }
   ],
   "source": [
    "#Get the current script's folder\n",
    "root_dir = os.getcwd()\n",
    "\n",
    "#Form the complete file path\n",
    "file_path = os.path.join(root_dir, 'VocabList.xlsx')\n",
    "\n",
    "#Open the first sheet of the file\n",
    "df_verbs = pd.read_excel(file_path, sheet_name=\"Verbs\")\n",
    "print(df_verbs)"
   ]
  },
  {
   "cell_type": "code",
   "execution_count": 5,
   "id": "613ecdeb-2528-4021-8b0c-15cbdc0d4984",
   "metadata": {},
   "outputs": [
    {
     "name": "stdout",
     "output_type": "stream",
     "text": [
      "             Vocab Gender      Meaning\n",
      "0          le chou      M      cabbage\n",
      "1    le chou-fleur      M  cauliflower\n",
      "2        le céleri      M       celery\n",
      "3        la cerise      F       cherry\n",
      "4          le maïs      M         corn\n",
      "..             ...    ...          ...\n",
      "263      le renard      M          fox\n",
      "264  la grenouille      F         frog\n",
      "265     la fenêtre      F       window\n",
      "266        la cour      F         yard\n",
      "267     le couloir      M         hall\n",
      "\n",
      "[268 rows x 3 columns]\n"
     ]
    }
   ],
   "source": [
    "#Open the second sheet of the file\n",
    "df_nouns = pd.read_excel(file_path, sheet_name=\"Nouns\")\n",
    "print(df_nouns)"
   ]
  },
  {
   "cell_type": "code",
   "execution_count": 6,
   "id": "38db9c4b-14a8-4077-8266-697a7d669951",
   "metadata": {},
   "outputs": [
    {
     "name": "stdout",
     "output_type": "stream",
     "text": [
      "                     Vocab       Meaning\n",
      "0                en colère         angry\n",
      "1       anxieux / anxieuse       anxious\n",
      "2         ennuyé / ennuyée         bored\n",
      "3             deçu / deçue  disappointed\n",
      "4           agité / agitée       excited\n",
      "5       frustré / frustrée    frustrated\n",
      "6       furieux / furieuse       furious\n",
      "7       heureux / heureuse         happy\n",
      "8         jaloux / jalouse       jealous\n",
      "9       nerveux / nerveuse       nervous\n",
      "10            fier / fière         proud\n",
      "11                  triste           sad\n",
      "12      effrayé / effrayée        scared\n",
      "13      surpris / surprise     surprised\n",
      "14            seul / seule          only\n",
      "15      sérieux / sérieuse       serious\n",
      "16  délicieux / délicieuse     delicious\n",
      "17    généreux / généreuse      generous\n",
      "18  courageux / courageuse    courageous\n",
      "19      curieux / curieuse       curious\n",
      "20               énergique     energetic\n",
      "21                 sincère       sincere\n",
      "22       gentil / gentille          nice\n",
      "23      premier / première         first\n",
      "24                  timide        scared\n",
      "25                  faible          weak\n",
      "26              âgé / âgée           old\n"
     ]
    }
   ],
   "source": [
    "#Open the third sheet of the file\n",
    "df_adj = pd.read_excel(file_path, sheet_name=\"Adjectives\")\n",
    "print(df_adj)"
   ]
  },
  {
   "cell_type": "code",
   "execution_count": 7,
   "id": "0a276f4a-76a4-436a-bd82-4d9082cbb3fd",
   "metadata": {},
   "outputs": [
    {
     "name": "stdout",
     "output_type": "stream",
     "text": [
      "            Vocab  IsComparative        Meaning\n",
      "0           aussi              1             as\n",
      "1           mieux              1         better\n",
      "2           moins              1           less\n",
      "3            plus              1           more\n",
      "4          jamais              0          never\n",
      "5     maintentant              0            now\n",
      "6       en avance              0          early\n",
      "7         souvent              0          often\n",
      "8     quelquefois              0      sometimes\n",
      "9      tristement              0          sadly\n",
      "10      lentement              0         slowly\n",
      "11   généralement              0        usually\n",
      "12           bien              0           well\n",
      "13    aimablement              0         kindly\n",
      "14   heureusement              0        happily\n",
      "15  attentivement              0    attentively\n",
      "16            mal              0          badly\n",
      "17     clairement              0        clearly\n",
      "18     facilement              0         easily\n",
      "19    extrêmement              0      extremely\n",
      "20     rapidement              0  fast, rapidly\n",
      "21     finalement              0        finally\n",
      "22    joyeusement              0       joyously\n",
      "23   parfaitement              0      perfectly\n",
      "24   probablement              0       probably\n",
      "25       rarement              0         rarely\n",
      "26        presque              0         almost\n",
      "27        parfois              0      sometimes\n",
      "28       ensemble              0       together\n",
      "29        d'abord              0          first\n"
     ]
    }
   ],
   "source": [
    "#Open the fourth sheet of the file\n",
    "df_adv = pd.read_excel(file_path, sheet_name=\"Adverbs\")\n",
    "print(df_adv)"
   ]
  },
  {
   "cell_type": "code",
   "execution_count": 8,
   "id": "e97bbc62-6dd7-43cd-b712-34c5a7519ad0",
   "metadata": {},
   "outputs": [
    {
     "name": "stdout",
     "output_type": "stream",
     "text": [
      "              Vocab               Meaning\n",
      "0          avant de                before\n",
      "1              pour       for/in order to\n",
      "2           afin de           in order to\n",
      "3        au lieu de            instead of\n",
      "4               par                    by\n",
      "5               sur                    on\n",
      "6           pendant                during\n",
      "7   pendant que/qu'                 while\n",
      "8       à gauche de        to the left of\n",
      "9       à droite de       to the right of\n",
      "10       en face de           across from\n",
      "11          loin de              far from\n",
      "12          près de                  near\n",
      "13        à côté de               next to\n",
      "14                à              to/at/in\n",
      "15             dans                inside\n",
      "16               au  in/to (masc country)\n",
      "17               en   in/to (fem country)\n",
      "18              sur              on/about\n",
      "19             sous                 under\n",
      "20         derrière                behind\n",
      "21           devant           in front of\n",
      "22            entre               between\n"
     ]
    }
   ],
   "source": [
    "#Open the fifth sheet of the file\n",
    "df_prep = pd.read_excel(file_path, sheet_name=\"Prepositions\")\n",
    "print(df_prep)"
   ]
  },
  {
   "cell_type": "code",
   "execution_count": 9,
   "id": "c9a47f6d-7e0c-4479-8f1a-b8ff0a901df2",
   "metadata": {},
   "outputs": [
    {
     "name": "stdout",
     "output_type": "stream",
     "text": [
      "                  Vocab            Meaning\n",
      "0     en moto(cyclette)      by motorcycle\n",
      "1             en bateau            by ship\n",
      "2   en vaisseau spatial       by spaceship\n",
      "3              en métro          by subway\n",
      "4               en taxi            by taxi\n",
      "..                  ...                ...\n",
      "84        jouer au foot     to play soccer\n",
      "85       jouer du piano  to play the piano\n",
      "86     il y a une heure        an hour ago\n",
      "87   il y a une semaine         a week ago\n",
      "88         il y a un an         a year ago\n",
      "\n",
      "[89 rows x 2 columns]\n"
     ]
    }
   ],
   "source": [
    "#Open the sixth sheet of the file\n",
    "df_phrase = pd.read_excel(file_path, sheet_name=\"Phrases\")\n",
    "print(df_phrase)"
   ]
  },
  {
   "cell_type": "code",
   "execution_count": null,
   "id": "e67d61f4-7502-4b27-b50e-8c53519cf9d6",
   "metadata": {},
   "outputs": [],
   "source": [
    "def make_selection():\n",
    "    choice = input(\"What would you like to do? (Select a letter.)\\na) Practice\\nb) Insert vocabulary\\n\")\n",
    "    if choice == 'a': #TO DO: build out more than just the verbs\n",
    "        print(\"Use these verbs:\")\n",
    "        r_verbs = df_verbs[\"Vocab\"].sample(n=3)\n",
    "        for r in r_verbs:\n",
    "            print(r)\n",
    "    elif choice == 'b': #TO DO: build this out, placeholder for now\n",
    "        input(\"What word would you like to insert?\")\n",
    "        print(\"We will add this when we build more.\")\n",
    "    else:\n",
    "        print(\"That was not a valid choice.\")\n",
    "    "
   ]
  },
  {
   "cell_type": "code",
   "execution_count": 21,
   "id": "664b6f06-96d1-4c83-916c-00759caf2161",
   "metadata": {},
   "outputs": [
    {
     "name": "stdout",
     "output_type": "stream",
     "text": [
      "What would you like to do? (Select a letter.)\n",
      "a) Practice\n",
      "b) Insert vocabulary\n",
      " a\n"
     ]
    },
    {
     "name": "stdout",
     "output_type": "stream",
     "text": [
      "Use these verbs:\n",
      "laver\n",
      "menacer\n",
      "bricoler\n"
     ]
    }
   ],
   "source": [
    "make_selection()"
   ]
  },
  {
   "cell_type": "code",
   "execution_count": null,
   "id": "41a163f6-2dda-4fa4-8c4f-96111c323bd4",
   "metadata": {},
   "outputs": [],
   "source": []
  }
 ],
 "metadata": {
  "kernelspec": {
   "display_name": "Python 3 (ipykernel)",
   "language": "python",
   "name": "python3"
  },
  "language_info": {
   "codemirror_mode": {
    "name": "ipython",
    "version": 3
   },
   "file_extension": ".py",
   "mimetype": "text/x-python",
   "name": "python",
   "nbconvert_exporter": "python",
   "pygments_lexer": "ipython3",
   "version": "3.13.2"
  }
 },
 "nbformat": 4,
 "nbformat_minor": 5
}
